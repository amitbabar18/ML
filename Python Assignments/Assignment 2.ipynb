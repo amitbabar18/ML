{
 "cells": [
  {
   "cell_type": "code",
   "execution_count": 67,
   "id": "ac726777",
   "metadata": {},
   "outputs": [
    {
     "name": "stdout",
     "output_type": "stream",
     "text": [
      "* \n",
      "* * \n",
      "* * * \n",
      "* * * * \n",
      "* * * * * \n",
      "* * * * \n",
      "* * * \n",
      "* * \n",
      "* \n"
     ]
    }
   ],
   "source": [
    "n=5\n",
    "for i in range(n-1):\n",
    "    \n",
    "    for j in range(i+1):\n",
    "        print(\"* \",end=\"\")\n",
    "    print()\n",
    "        \n",
    "for i in range(n):\n",
    "    \n",
    "    for j in range(i,n):\n",
    "        print(\"* \",end=\"\")   \n",
    "    print()"
   ]
  },
  {
   "cell_type": "code",
   "execution_count": 88,
   "id": "17933be3",
   "metadata": {},
   "outputs": [
    {
     "name": "stdout",
     "output_type": "stream",
     "text": [
      "Input word iNeuron\n",
      "norueNi\n"
     ]
    }
   ],
   "source": [
    "s=input(\"Input word \")\n",
    "L1=len(s)\n",
    "Reversestring=s[L1::-1]\n",
    "print (Reversestring)"
   ]
  },
  {
   "cell_type": "code",
   "execution_count": null,
   "id": "5fc75e19",
   "metadata": {},
   "outputs": [],
   "source": []
  }
 ],
 "metadata": {
  "kernelspec": {
   "display_name": "Python 3 (ipykernel)",
   "language": "python",
   "name": "python3"
  },
  "language_info": {
   "codemirror_mode": {
    "name": "ipython",
    "version": 3
   },
   "file_extension": ".py",
   "mimetype": "text/x-python",
   "name": "python",
   "nbconvert_exporter": "python",
   "pygments_lexer": "ipython3",
   "version": "3.9.7"
  }
 },
 "nbformat": 4,
 "nbformat_minor": 5
}
