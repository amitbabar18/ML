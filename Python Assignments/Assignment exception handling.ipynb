{
 "cells": [
  {
   "cell_type": "markdown",
   "id": "45d6d985",
   "metadata": {},
   "source": [
    "# Write a function to compute 5/0 and use try/except to catch the exceptions."
   ]
  },
  {
   "cell_type": "code",
   "execution_count": 9,
   "id": "a8e045b5",
   "metadata": {},
   "outputs": [
    {
     "name": "stdout",
     "output_type": "stream",
     "text": [
      "Enter B= 0\n",
      "Value is not divisible by zero\n",
      "Enter another number\n",
      "Enter B= 2\n",
      "2.5\n"
     ]
    }
   ],
   "source": [
    "while True:\n",
    "    try:\n",
    "        a=5\n",
    "        b=int(input(\"Enter B= \"))\n",
    "        c=a/b\n",
    "    except ZeroDivisionError:\n",
    "        print(\"Value is not divisible by zero\")\n",
    "        print(\"Enter another number\")\n",
    "    else:\n",
    "        print(c)\n",
    "        break"
   ]
  },
  {
   "cell_type": "markdown",
   "id": "ad38156f",
   "metadata": {},
   "source": [
    "# Implement a Python program to generate all sentences where subject is in\n",
    "[\"Americans\", \"Indians\"] and verb is in [\"Play\", \"watch\"] and the object is in\n",
    "[\"Baseball\",\"cricket\"]."
   ]
  },
  {
   "cell_type": "code",
   "execution_count": 20,
   "id": "1f4dd7b9",
   "metadata": {},
   "outputs": [
    {
     "name": "stdout",
     "output_type": "stream",
     "text": [
      "Americans plays Baseball.\n",
      "Americans plays cricket.\n",
      "Americans watch Baseball.\n",
      "Americans watch cricket.\n",
      "Indians plays Baseball.\n",
      "Indians plays cricket.\n",
      "Indians watch Baseball.\n",
      "Indians watch cricket.\n"
     ]
    }
   ],
   "source": [
    "subjects=[\"Americans\",\"Indians\"] \n",
    "verbs=[\"plays\",\"watch\"] \n",
    "objects=[\"Baseball\",\"cricket\"]\n",
    "\n",
    "for s in subjects:\n",
    "    for v in verbs:\n",
    "        for o in objects:\n",
    "            print(s,v,o+\".\")"
   ]
  },
  {
   "cell_type": "code",
   "execution_count": null,
   "id": "7360935b",
   "metadata": {},
   "outputs": [],
   "source": []
  }
 ],
 "metadata": {
  "kernelspec": {
   "display_name": "Python 3 (ipykernel)",
   "language": "python",
   "name": "python3"
  },
  "language_info": {
   "codemirror_mode": {
    "name": "ipython",
    "version": 3
   },
   "file_extension": ".py",
   "mimetype": "text/x-python",
   "name": "python",
   "nbconvert_exporter": "python",
   "pygments_lexer": "ipython3",
   "version": "3.9.7"
  }
 },
 "nbformat": 4,
 "nbformat_minor": 5
}
